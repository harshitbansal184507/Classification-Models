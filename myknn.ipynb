{
 "cells": [
  {
   "cell_type": "code",
   "execution_count": 1,
   "id": "e3aedfab",
   "metadata": {},
   "outputs": [],
   "source": [
    "import pandas as pd\n",
    "import numpy as np \n",
    "import seaborn as sns \n",
    "import matplotlib.pylot as plt \n",
    "%matplotlib inline "
   ]
  },
  {
   "cell_type": "code",
   "execution_count": 2,
   "id": "f8534a04",
   "metadata": {},
   "outputs": [],
   "source": [
    "import pandas as pd\n",
    "import numpy as np \n",
    "import seaborn as sns \n",
    "import matplotlib.pyplot as plt \n",
    "%matplotlib inline "
   ]
  },
  {
   "cell_type": "code",
   "execution_count": 3,
   "id": "95e4ae66",
   "metadata": {},
   "outputs": [],
   "source": [
    "df=pd.read_csv(\"Classified Data\")"
   ]
  },
  {
   "cell_type": "code",
   "execution_count": 4,
   "id": "5841f5b8",
   "metadata": {},
   "outputs": [],
   "source": [
    "df=pd.read_csv(\"Classified Data\")"
   ]
  },
  {
   "cell_type": "code",
   "execution_count": 5,
   "id": "c618790c",
   "metadata": {},
   "outputs": [],
   "source": [
    "df"
   ]
  },
  {
   "cell_type": "code",
   "execution_count": 6,
   "id": "76cd53a6",
   "metadata": {},
   "outputs": [],
   "source": [
    "df=pd.read_csv(\"Classified Data\",index=0)"
   ]
  },
  {
   "cell_type": "code",
   "execution_count": 7,
   "id": "bb279257",
   "metadata": {},
   "outputs": [],
   "source": [
    "df=pd.read_csv(\"Classified Data\",index_col=0)"
   ]
  },
  {
   "cell_type": "code",
   "execution_count": 8,
   "id": "deee8ac5",
   "metadata": {},
   "outputs": [],
   "source": [
    "df"
   ]
  },
  {
   "cell_type": "code",
   "execution_count": 9,
   "id": "bb293339",
   "metadata": {},
   "outputs": [],
   "source": [
    "df.head() #when the data is saved in the csv , the initial index which is only used in pandas is saved there , so to avoid it , while savin data , or even while getting data , keep check on the index by looking at the data  "
   ]
  },
  {
   "cell_type": "code",
   "execution_count": 10,
   "id": "88a785e1",
   "metadata": {},
   "outputs": [],
   "source": [
    "from sklearn.preprocessing import StandardScaler"
   ]
  },
  {
   "cell_type": "code",
   "execution_count": 11,
   "id": "29fab286",
   "metadata": {},
   "outputs": [],
   "source": [
    "scaler=StandardScaler()"
   ]
  },
  {
   "cell_type": "code",
   "execution_count": 12,
   "id": "705e23cf",
   "metadata": {},
   "outputs": [],
   "source": [
    "from sklearn.preprocessing import StandardScaler "
   ]
  },
  {
   "cell_type": "code",
   "execution_count": 13,
   "id": "9334e896",
   "metadata": {},
   "outputs": [],
   "source": [
    "scaler=StandardScaler()"
   ]
  },
  {
   "cell_type": "code",
   "execution_count": 14,
   "id": "a847ea65",
   "metadata": {},
   "outputs": [],
   "source": [
    "scaler.fit(df.drop[\"TARGET CLASS\"],axis=1 )"
   ]
  },
  {
   "cell_type": "code",
   "execution_count": 15,
   "id": "9c896e65",
   "metadata": {},
   "outputs": [],
   "source": [
    "scaler.fit(df.drop(\"TARGET CLASS\",axis=1 ))"
   ]
  },
  {
   "cell_type": "code",
   "execution_count": 16,
   "id": "9475259d",
   "metadata": {},
   "outputs": [],
   "source": [
    "scaledfeatures=scaler.transform((df.drop(\"TARGET CLASS\",axis=1 ))"
   ]
  },
  {
   "cell_type": "code",
   "execution_count": 17,
   "id": "ee96d59c",
   "metadata": {},
   "outputs": [],
   "source": [
    "scaledfeatures=scaler.transform((df.drop(\"TARGET CLASS\",axis=1 )))"
   ]
  },
  {
   "cell_type": "code",
   "execution_count": 18,
   "id": "943a5dbc",
   "metadata": {},
   "outputs": [],
   "source": [
    "scaledfeatures"
   ]
  },
  {
   "cell_type": "code",
   "execution_count": 19,
   "id": "ee72a8f4",
   "metadata": {},
   "outputs": [],
   "source": [
    "df_features=pd.DataFrame(scaledfeatures, columns= df.columns)"
   ]
  },
  {
   "cell_type": "code",
   "execution_count": 20,
   "id": "165cbffc",
   "metadata": {},
   "outputs": [],
   "source": [
    "df_features=pd.DataFrame(scaledfeatures, columns= df.columns[:-1])"
   ]
  },
  {
   "cell_type": "code",
   "execution_count": 21,
   "id": "c5c3e051",
   "metadata": {},
   "outputs": [],
   "source": [
    "df_features"
   ]
  },
  {
   "cell_type": "code",
   "execution_count": 22,
   "id": "4a8c2b72",
   "metadata": {},
   "outputs": [],
   "source": [
    "df_features.head()"
   ]
  },
  {
   "cell_type": "code",
   "execution_count": 23,
   "id": "87a6e337",
   "metadata": {},
   "outputs": [],
   "source": [
    "from sklearn.model_selection import train_test_split"
   ]
  },
  {
   "cell_type": "code",
   "execution_count": 24,
   "id": "134c7c5f",
   "metadata": {},
   "outputs": [],
   "source": [
    "from sklearn.model_selection import train_test_split"
   ]
  },
  {
   "cell_type": "code",
   "execution_count": 25,
   "id": "734cd91b",
   "metadata": {},
   "outputs": [],
   "source": [
    "X=df_features\n",
    "y=df[\"TARGET CLASS\"]\n",
    "\n",
    "X_train, X_test, y_train, y_test = train_test_split(\n",
    "...     X, y, test_size=0.3, random_state=101)"
   ]
  },
  {
   "cell_type": "code",
   "execution_count": 26,
   "id": "06f3039a",
   "metadata": {},
   "outputs": [],
   "source": [
    "X=df_features\n",
    "y=df[\"TARGET CLASS\"]\n",
    "\n",
    "X_train, X_test, y_train, y_test = train_test_split(X, y, test_size=0.3, random_state=101)"
   ]
  },
  {
   "cell_type": "code",
   "execution_count": 27,
   "id": "6c96e5ce",
   "metadata": {},
   "outputs": [],
   "source": [
    "from sklearn.neighbors import KNeighborsClassifier"
   ]
  },
  {
   "cell_type": "code",
   "execution_count": 28,
   "id": "b409db71",
   "metadata": {},
   "outputs": [],
   "source": [
    "knn=KNeighborsClassifier(n_neighbours=1 )"
   ]
  },
  {
   "cell_type": "code",
   "execution_count": 29,
   "id": "9e37cd4c",
   "metadata": {},
   "outputs": [],
   "source": [
    "knn=KNeighborsClassifier(n_neighbors=1 )"
   ]
  },
  {
   "cell_type": "code",
   "execution_count": 30,
   "id": "6d46c82e",
   "metadata": {},
   "outputs": [],
   "source": [
    "knn.fit(X_train,y_train)"
   ]
  },
  {
   "cell_type": "code",
   "execution_count": 31,
   "id": "2d3df6cb",
   "metadata": {},
   "outputs": [],
   "source": [
    "pred=knn.predict()"
   ]
  },
  {
   "cell_type": "code",
   "execution_count": 32,
   "id": "efad3ed1",
   "metadata": {},
   "outputs": [],
   "source": [
    "pred=knn.predict(X_test)"
   ]
  },
  {
   "cell_type": "code",
   "execution_count": 33,
   "id": "42e8e095",
   "metadata": {},
   "outputs": [],
   "source": [
    "pred"
   ]
  },
  {
   "cell_type": "code",
   "execution_count": 34,
   "id": "074ff53d",
   "metadata": {},
   "outputs": [],
   "source": [
    "import os\n",
    "\n",
    "notebook_path = os.getcwd()\n",
    "print(notebook_path)"
   ]
  }
 ],
 "metadata": {},
 "nbformat": 4,
 "nbformat_minor": 5
}
